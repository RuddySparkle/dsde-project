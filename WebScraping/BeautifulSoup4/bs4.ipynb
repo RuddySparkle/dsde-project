{
 "cells": [
  {
   "cell_type": "code",
   "execution_count": 57,
   "metadata": {},
   "outputs": [],
   "source": [
    "import requests\n",
    "from bs4 import BeautifulSoup\n",
    "import pandas as pd"
   ]
  },
  {
   "cell_type": "code",
   "execution_count": 58,
   "metadata": {},
   "outputs": [],
   "source": [
    "def scrape_google_scholar(query):\n",
    "    base_url = \"https://scholar.google.com\"\n",
    "    url = f\"{base_url}/scholar?q={query}\"\n",
    "    headers = {\n",
    "        \"User-Agent\": \"Mozilla/5.0 (Windows NT 10.0; Win64; x64) AppleWebKit/537.36 (KHTML, like Gecko) Chrome/58.0.3029.110 Safari/537.3\"\n",
    "    }\n",
    "    response = requests.get(url, headers=headers)\n",
    "    soup = BeautifulSoup(response.text, 'html.parser')\n",
    "    \n",
    "    articles = []\n",
    "    for result in soup.find_all('div', class_='gs_ri'):\n",
    "        title = result.find('h3', class_='gs_rt').text.strip()\n",
    "        abstract = result.find('div', class_='gs_rs')\n",
    "        abstract = abstract.text.strip() if abstract else None\n",
    "        authors = result.find('div', class_='gs_a').text.strip()\n",
    "        link = result.find('a')['href']\n",
    "        articles.append({'Title': title, 'Abstract': abstract, 'Authors': authors, 'Link': link})\n",
    "    \n",
    "    return articles"
   ]
  },
  {
   "cell_type": "code",
   "execution_count": 59,
   "metadata": {},
   "outputs": [],
   "source": [
    "def scrape_sciencedirect(query):\n",
    "    base_url = \"https://www.sciencedirect.com\"\n",
    "    url = f\"{base_url}/search?qs={query}\"\n",
    "    headers = {\n",
    "        \"User-Agent\": \"Mozilla/5.0 (Windows NT 10.0; Win64; x64) AppleWebKit/537.36 (KHTML, like Gecko) Chrome/58.0.3029.110 Safari/537.3\",\n",
    "        \"Accept\": \"text/html,application/xhtml+xml,application/xml;q=0.9,image/webp,image/apng,*/*;q=0.8\",\n",
    "        \"Accept-Encoding\": \"gzip, deflate, br\",\n",
    "        \"Accept-Language\": \"en-US,en;q=0.9\",\n",
    "        \"Referer\": \"https://www.sciencedirect.com/\",\n",
    "        \"Connection\": \"keep-alive\",\n",
    "        \"Upgrade-Insecure-Requests\": \"1\"\n",
    "    }\n",
    "    response = requests.get(url, headers=headers)\n",
    "    soup = BeautifulSoup(response.text, 'html.parser')\n",
    "    \n",
    "    articles = []\n",
    "    for result in soup.find_all('a', class_='result-list-title-link'):\n",
    "        title = result.text.strip()\n",
    "        link = result['href']\n",
    "        authors = result.find_next('ul', class_='author-group')\n",
    "        authors = authors.text.strip() if authors else None\n",
    "        date = result.find_next('dd', class_='publication-date')\n",
    "        date = date.text.strip() if date else None\n",
    "        articles.append({'Title': title, 'Authors': authors, 'Date': date, 'Link': link})\n",
    "    \n",
    "    return articles\n"
   ]
  },
  {
   "cell_type": "code",
   "execution_count": 60,
   "metadata": {},
   "outputs": [],
   "source": [
    "def scrape_ieee_xplore(query):\n",
    "    base_url = \"https://ieeexplore.ieee.org\"\n",
    "    url = f\"{base_url}/search/searchresult.jsp?newsearch=true&queryText={query}\"\n",
    "    headers = {\n",
    "        \"User-Agent\": \"Mozilla/5.0 (Windows NT 10.0; Win64; x64) AppleWebKit/537.36 (KHTML, like Gecko) Chrome/58.0.3029.110 Safari/537.3\",\n",
    "        \"Accept\": \"text/html,application/xhtml+xml,application/xml;q=0.9,image/webp,image/apng,*/*;q=0.8\",\n",
    "        \"Accept-Encoding\": \"gzip, deflate, br\",\n",
    "        \"Accept-Language\": \"en-US,en;q=0.9\",\n",
    "        \"Referer\": \"https://ieeexplore.ieee.org/\",\n",
    "        \"Connection\": \"keep-alive\",\n",
    "        \"Upgrade-Insecure-Requests\": \"1\"\n",
    "        }\n",
    "    response = requests.get(url, headers=headers)\n",
    "    soup = BeautifulSoup(response.text, 'html.parser')\n",
    "\n",
    "    articles = []\n",
    "    for result in soup.find_all('div', class_='List-results-items'):\n",
    "        title = result.find('h2', class_='title').text.strip()\n",
    "        authors = result.find('p', class_='authors').text.strip()\n",
    "        publication_info = result.find('p', class_='publisher').text.strip()\n",
    "        link = base_url + result.find('a', class_='document-title')['href']\n",
    "        articles.append({'Title': title, 'Authors': authors, 'Publication Info': publication_info, 'Link': link})\n",
    "\n",
    "    return articles"
   ]
  },
  {
   "cell_type": "code",
   "execution_count": 61,
   "metadata": {},
   "outputs": [],
   "source": [
    "query = \"engineering\"\n",
    "google_scholar_results = scrape_google_scholar(query)\n",
    "sciencedirect_results = scrape_sciencedirect(query)\n",
    "ieee_xplore_results = scrape_ieee_xplore(query)"
   ]
  },
  {
   "cell_type": "code",
   "execution_count": 62,
   "metadata": {},
   "outputs": [],
   "source": [
    "# Convert results to pandas DataFrame\n",
    "google_scholar_df = pd.DataFrame(google_scholar_results)\n",
    "sciencedirect_df = pd.DataFrame(sciencedirect_results)\n",
    "ieee_xplore_df = pd.DataFrame(ieee_xplore_results)"
   ]
  },
  {
   "cell_type": "code",
   "execution_count": 63,
   "metadata": {},
   "outputs": [],
   "source": [
    "def display_results(df: pd.DataFrame):\n",
    "    if df.empty:\n",
    "        print(\"Got blocked by the website. Try again later.\")\n",
    "    else:\n",
    "        print(df)\n",
    "    return"
   ]
  },
  {
   "cell_type": "code",
   "execution_count": 64,
   "metadata": {},
   "outputs": [
    {
     "name": "stdout",
     "output_type": "stream",
     "text": [
      "                                               Title  \\\n",
      "0               Engineering solventogenic clostridia   \n",
      "1                           Biocommodity engineering   \n",
      "2           [หนังสือ][B] Oceanographical engineering   \n",
      "3                [หนังสือ][B] Engineering in history   \n",
      "4  [หนังสือ][B] Micromanufacturing engineering an...   \n",
      "5             [หนังสือ][B] Aquacultural engineering.   \n",
      "6  [หนังสือ][B] Bioseparations science and engine...   \n",
      "7                [หนังสือ][B] Engineering statistics   \n",
      "8  Reliability engineering: Old problems and new ...   \n",
      "9         [หนังสือ][B] System engineering management   \n",
      "\n",
      "                                            Abstract  \\\n",
      "0  … Pathway engineering efforts have resulted in...   \n",
      "1  The application of biotechnology to the produc...   \n",
      "2  As is the case with many modern fields of stud...   \n",
      "3  … engineering:“It is customary to think of eng...   \n",
      "4  … , and thin film fabrication Outlines system ...   \n",
      "5  This book is divided into 2 parts which cover ...   \n",
      "6  Designed for undergraduates, graduate students...   \n",
      "7  This Student Solutions Manual is meant to acco...   \n",
      "8  … on problems and challenges of current reliab...   \n",
      "9  An updated classic covering applications, proc...   \n",
      "\n",
      "                                             Authors  \\\n",
      "0  ET Papoutsakis - Current opinion in biotechnol...   \n",
      "1  LR Lynd, CE Wyman, TU Gerngross - Biotechnolog...   \n",
      "2                RL Wiegel - 2013 - books.google.com   \n",
      "3                 RS Kirby - 1990 - books.google.com   \n",
      "4                    Y Qin - 2010 - books.google.com   \n",
      "5         FW Wheaton - 1993 - cabidigitallibrary.org   \n",
      "6  RG Harrison, P Todd, SR Rudge, DP Petrides - 2...   \n",
      "7  DC Montgomery, GC Runger, NF Hubele - 2009 - b...   \n",
      "8  E Zio - Reliability engineering & system safet...   \n",
      "9             BS Blanchard - 2004 - books.google.com   \n",
      "\n",
      "                                                Link  \n",
      "0  https://www.sciencedirect.com/science/article/...  \n",
      "1  https://aiche.onlinelibrary.wiley.com/doi/abs/...  \n",
      "2  https://books.google.com/books?hl=th&lr=&id=0A...  \n",
      "3  https://books.google.com/books?hl=th&lr=&id=MX...  \n",
      "4  https://books.google.com/books?hl=th&lr=&id=yf...  \n",
      "5  https://www.cabidigitallibrary.org/doi/full/10...  \n",
      "6  https://books.google.com/books?hl=th&lr=&id=15...  \n",
      "7  https://books.google.com/books?hl=th&lr=&id=O-...  \n",
      "8  https://www.sciencedirect.com/science/article/...  \n",
      "9  https://books.google.com/books?hl=th&lr=&id=Gf...  \n"
     ]
    }
   ],
   "source": [
    "display_results(google_scholar_df)"
   ]
  },
  {
   "cell_type": "code",
   "execution_count": 65,
   "metadata": {},
   "outputs": [
    {
     "name": "stdout",
     "output_type": "stream",
     "text": [
      "Got blocked by the website. Try again later.\n"
     ]
    }
   ],
   "source": [
    "display_results(sciencedirect_df)"
   ]
  },
  {
   "cell_type": "code",
   "execution_count": 66,
   "metadata": {},
   "outputs": [
    {
     "name": "stdout",
     "output_type": "stream",
     "text": [
      "Got blocked by the website. Try again later.\n"
     ]
    }
   ],
   "source": [
    "display_results(ieee_xplore_df)"
   ]
  }
 ],
 "metadata": {
  "kernelspec": {
   "display_name": "Python 3",
   "language": "python",
   "name": "python3"
  },
  "language_info": {
   "codemirror_mode": {
    "name": "ipython",
    "version": 3
   },
   "file_extension": ".py",
   "mimetype": "text/x-python",
   "name": "python",
   "nbconvert_exporter": "python",
   "pygments_lexer": "ipython3",
   "version": "3.11.4"
  }
 },
 "nbformat": 4,
 "nbformat_minor": 2
}
