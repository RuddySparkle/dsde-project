{
 "cells": [
  {
   "cell_type": "code",
   "execution_count": 1,
   "metadata": {},
   "outputs": [],
   "source": [
    "from datetime import timedelta\n",
    "import requests\n",
    "from bs4 import BeautifulSoup\n",
    "import pandas as pd\n",
    "import json"
   ]
  },
  {
   "cell_type": "markdown",
   "metadata": {},
   "source": [
    "REST API Scraping for IEEE"
   ]
  },
  {
   "cell_type": "code",
   "execution_count": 2,
   "metadata": {},
   "outputs": [
    {
     "name": "stderr",
     "output_type": "stream",
     "text": [
      "C:\\Users\\rutth\\AppData\\Local\\Temp\\ipykernel_12192\\865436273.py:88: SettingWithCopyWarning: \n",
      "A value is trying to be set on a copy of a slice from a DataFrame.\n",
      "Try using .loc[row_indexer,col_indexer] = value instead\n",
      "\n",
      "See the caveats in the documentation: https://pandas.pydata.org/pandas-docs/stable/user_guide/indexing.html#returning-a-view-versus-a-copy\n",
      "  selected_df['authorsName'] = selected_df['authors'].apply(lambda x: [author['preferredName'] for author in x])\n"
     ]
    }
   ],
   "source": [
    "def scrape_ieee(query, num_pages):\n",
    "    url = \"https://ieeexplore.ieee.org/rest/search\"\n",
    "    headers = {\n",
    "        \"accept\": \"application/json, text/plain, */*\",\n",
    "        \"accept-language\": \"th-TH,th;q=0.9\",\n",
    "        \"content-type\": \"application/json\",\n",
    "        \"origin\": \"https://ieeexplore.ieee.org\",\n",
    "        \"priority\": \"u=1, i\",\n",
    "        \"referer\": f\"https://ieeexplore.ieee.org/search/searchresult.jsp?newsearch=true&queryText={query}\",\n",
    "        \"sec-ch-ua\": \"\\\"Chromium\\\";v=\\\"124\\\", \\\"Google Chrome\\\";v=\\\"124\\\", \\\"Not-A.Brand\\\";v=\\\"99\\\"\",\n",
    "        \"sec-ch-ua-mobile\": \"?0\",\n",
    "        \"sec-ch-ua-platform\": \"\\\"Windows\\\"\",\n",
    "        \"sec-fetch-dest\": \"empty\",\n",
    "        \"sec-fetch-mode\": \"cors\",\n",
    "        \"sec-fetch-site\": \"same-origin\",\n",
    "        \"user-agent\": \"Mozilla/5.0 (Windows NT 10.0; Win64; x64) AppleWebKit/537.36 (KHTML, like Gecko) Chrome/124.0.0.0 Safari/537.36\",\n",
    "        \"x-security-request\": \"required\"\n",
    "    }\n",
    "\n",
    "    all_records = []\n",
    "    for page in range(1, num_pages+1):\n",
    "        data = {\n",
    "            \"newsearch\": True,\n",
    "            \"queryText\": query,\n",
    "            \"highlight\": True,\n",
    "            \"returnFacets\": [\"ALL\"],\n",
    "            \"returnType\": \"SEARCH\",\n",
    "            \"matchPubs\": True,\n",
    "            \"pageNumber\": page\n",
    "        }\n",
    "\n",
    "        response = requests.post(url, headers=headers, json=data)\n",
    "        response.raise_for_status()  # Raise an exception for unsuccessful requests\n",
    "        \n",
    "        data = response.json()\n",
    "        records = data.get('records', [])\n",
    "        all_records.extend(records)\n",
    "\n",
    "    # Create DataFrame from all records\n",
    "    df = pd.json_normalize(all_records)\n",
    "    return df\n",
    "\n",
    "# EDIT the search query here\n",
    "query = \"Engineering\"\n",
    "\n",
    "# EDIT pagination here\n",
    "num_pages = 1\n",
    "\n",
    "selected_columns = ['authors', 'publicationNumber', 'publicationDate', 'articleNumber',\n",
    "                    'articleTitle', 'downloadCount',  'abstract', 'articleContentType']\n",
    "df = scrape_ieee(query, num_pages)\n",
    "selected_df = df[selected_columns]\n",
    "\n",
    "def scrape_each_author(authorId):\n",
    "    url = f\"https://ieeexplore.ieee.org/rest/author/{authorId}\"\n",
    "    headers = {\n",
    "        \"accept\": \"application/json, text/plain, */*\",\n",
    "        \"accept-language\": \"th-TH,th;q=0.9\",\n",
    "        \"content-type\": \"application/json\",\n",
    "        \"origin\": \"https://ieeexplore.ieee.org\",\n",
    "        \"priority\": \"u=1, i\",\n",
    "        \"referer\": \"https://ieeexplore.ieee.org/search/searchresult.jsp?newsearch=true&queryText=Engineering\",\n",
    "        \"sec-ch-ua\": \"\\\"Chromium\\\";v=\\\"124\\\", \\\"Google Chrome\\\";v=\\\"124\\\", \\\"Not-A.Brand\\\";v=\\\"99\\\"\",\n",
    "        \"sec-ch-ua-mobile\": \"?0\",\n",
    "        \"sec-ch-ua-platform\": \"\\\"Windows\\\"\",\n",
    "        \"sec-fetch-dest\": \"empty\",\n",
    "        \"sec-fetch-mode\": \"cors\",\n",
    "        \"sec-fetch-site\": \"same-origin\",\n",
    "        \"user-agent\": \"Mozilla/5.0 (Windows NT 10.0; Win64; x64) AppleWebKit/537.36 (KHTML, like Gecko) Chrome/\"\n",
    "    }\n",
    "\n",
    "    response = requests.get(url, headers=headers)\n",
    "    response.raise_for_status()  # Raise an exception for unsuccessful requests\n",
    "\n",
    "    data = response.json()\n",
    "    if not len(data):\n",
    "        return None\n",
    "    currentAffilations = data[0].get('currentAffiliations', [])\n",
    "    if not len(currentAffilations):\n",
    "        return None\n",
    "    currentAffilations = currentAffilations[0]\n",
    "    country = currentAffilations.split(', ')\n",
    "    if not len(country):\n",
    "        return None\n",
    "    country = country[-1]\n",
    "    return country\n",
    "\n",
    "selected_df['authorsName'] = selected_df['authors'].apply(lambda x: [author['preferredName'] for author in x])\n",
    "selected_df['authorsAffilationCountry'] = selected_df['authors'].apply(lambda x: [scrape_each_author(author['id']) for author in x])\n",
    "selected_df = selected_df.drop(columns=['authors'], axis=1)\n",
    "print(selected_df.shape)\n",
    "selected_df"
   ]
  }
 ],
 "metadata": {
  "kernelspec": {
   "display_name": "Python 3",
   "language": "python",
   "name": "python3"
  },
  "language_info": {
   "codemirror_mode": {
    "name": "ipython",
    "version": 3
   },
   "file_extension": ".py",
   "mimetype": "text/x-python",
   "name": "python",
   "nbconvert_exporter": "python",
   "pygments_lexer": "ipython3",
   "version": "3.11.4"
  }
 },
 "nbformat": 4,
 "nbformat_minor": 2
}
